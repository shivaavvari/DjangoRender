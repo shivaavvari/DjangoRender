{
  "cells": [
    {
      "cell_type": "code",
      "execution_count": null,
      "metadata": {
        "id": "nMit8Wdu4kOm"
      },
      "outputs": [],
      "source": [
        "# Import necessary libraries\n",
        "import kagglehub\n",
        "import pandas as pd\n",
        "import numpy as np\n",
        "from sklearn.preprocessing import StandardScaler\n",
        "from sklearn.model_selection import train_test_split\n",
        "from sklearn.ensemble import RandomForestClassifier\n",
        "from sklearn.metrics import confusion_matrix, roc_auc_score, roc_curve, ConfusionMatrixDisplay, RocCurveDisplay, f1_score, precision_score, recall_score, accuracy_score\n",
        "import matplotlib.pyplot as plt\n",
        "from mlxtend.plotting import plot_confusion_matrix\n",
        "from sklearn.metrics import PrecisionRecallDisplay\n",
        "from sklearn.ensemble import AdaBoostClassifier\n",
        "from sklearn.tree import DecisionTreeClassifier\n",
        "from sklearn.metrics import classification_report\n",
        "import seaborn as sns\n",
        "%matplotlib inline\n",
        "\n",
        "# Download latest version of the dataset\n",
        "# path = kagglehub.dataset_download(\"mlg-ulb/creditcardfraud\")\n",
        "\n",
        "print(\"Path to dataset files:\", path)\n"
      ]
    },
    {
      "cell_type": "code",
      "execution_count": null,
      "metadata": {
        "vscode": {
          "languageId": "markdown"
        }
      },
      "outputs": [],
      "source": [
        "# Credit Card Fraud Detection\n",
        "\n",
        "## Data Import and Exploration\n",
        "\n",
        "### Data Visualization\n",
        "\n",
        "## Data Preprocessing\n",
        "\n",
        "## Model Training\n",
        "\n",
        "### Random Forest Classifier\n",
        "\n",
        "### AdaBoost Classifier\n",
        "\n",
        "## Model Evaluation\n",
        "\n",
        "### Confusion Matrix\n",
        "\n",
        "### Classification Report\n",
        "\n",
        "### ROC Curve\n",
        "\n",
        "### Precision-Recall Curve\n",
        "\n",
        "## Model Saving"
      ]
    },
    {
      "cell_type": "code",
      "execution_count": null,
      "metadata": {},
      "outputs": [],
      "source": []
    },
    {
      "cell_type": "code",
      "execution_count": null,
      "metadata": {
        "id": "liqCXpgk5FHf"
      },
      "outputs": [],
      "source": [
        "df = pd.read_csv(\"/root/.cache/kagglehub/datasets/mlg-ulb/creditcardfraud/versions/3/creditcard.csv\",sep=\",\")"
      ]
    },
    {
      "cell_type": "code",
      "execution_count": null,
      "metadata": {
        "id": "VOE5Ys9ZFBR8"
      },
      "outputs": [],
      "source": [
        "df.isna().sum()\n",
        "df.info()\n",
        "df.dtypes\n",
        "df.describe()\n"
      ]
    },
    {
      "cell_type": "code",
      "execution_count": null,
      "metadata": {
        "id": "WN8lwqzXFe8T"
      },
      "outputs": [],
      "source": [
        "fig,ax = plt.subplots(nrows=6,ncols=5,figsize=(20,10))\n",
        "for col in df.columns[:-1]:\n",
        "  plt.subplot(6,5,df.columns.get_loc(col)+1)\n",
        "  df[col].plot.density()\n",
        "  df[col].plot(kind='hist')\n",
        "  plt.tight_layout()\n",
        "plt.show()\n"
      ]
    },
    {
      "cell_type": "code",
      "execution_count": null,
      "metadata": {
        "id": "OWWvT3DL3TLD"
      },
      "outputs": [],
      "source": [
        "sns.pairplot(df[df.columns[:-1]])"
      ]
    },
    {
      "cell_type": "code",
      "execution_count": null,
      "metadata": {
        "id": "0TjO8IWI6e_z"
      },
      "outputs": [],
      "source": [
        "sns.heatmap(df.corr())"
      ]
    },
    {
      "cell_type": "code",
      "execution_count": null,
      "metadata": {
        "id": "5T6oaYPAGTQG"
      },
      "outputs": [],
      "source": [
        "df.corr().plot(legend=False)"
      ]
    },
    {
      "cell_type": "markdown",
      "metadata": {
        "id": "s4lhbZVf5JiQ"
      },
      "source": [
        "# New Section"
      ]
    },
    {
      "cell_type": "code",
      "execution_count": null,
      "metadata": {
        "id": "LyLFEAiG510g"
      },
      "outputs": [],
      "source": [
        "X =df[df.columns[:-1]]\n",
        "y = df[df.columns[-1]]"
      ]
    },
    {
      "cell_type": "code",
      "execution_count": null,
      "metadata": {
        "id": "FTbOLSuTSV9G"
      },
      "outputs": [],
      "source": [
        "scaler  = StandardScaler()\n",
        "scaler.fit_transform(X)\n",
        "X_scaled = scaler.transform(X)\n"
      ]
    },
    {
      "cell_type": "code",
      "execution_count": null,
      "metadata": {
        "id": "CPwHlmUL5184"
      },
      "outputs": [],
      "source": [
        "\n",
        "X_train,X_test,y_train,y_test = train_test_split(X_scaled, y,test_size=0.33,random_state=42)"
      ]
    },
    {
      "cell_type": "code",
      "execution_count": null,
      "metadata": {
        "id": "M3Whd0gNNo6Y"
      },
      "outputs": [],
      "source": [
        "df.columns\n"
      ]
    },
    {
      "cell_type": "code",
      "execution_count": null,
      "metadata": {
        "id": "8H73Og9e5_4o"
      },
      "outputs": [],
      "source": [
        "\n",
        "cls = RandomForestClassifier()\n",
        "\n",
        "cls.fit(X_train,y_train )"
      ]
    },
    {
      "cell_type": "code",
      "execution_count": null,
      "metadata": {
        "id": "t6ftdSRL5__i"
      },
      "outputs": [],
      "source": [
        "y_pred = cls.predict(X_test)\n",
        "\n",
        "test = X_test[y_pred==1]\n",
        "type(test)"
      ]
    },
    {
      "cell_type": "code",
      "execution_count": null,
      "metadata": {
        "id": "4Kz6pfYD70_o"
      },
      "outputs": [],
      "source": [
        "X_test [y_pred == 1]\n",
        "df_test = pd.DataFrame(X_test[y_pred==1],columns=df.columns[:-1])\n",
        "df_test"
      ]
    },
    {
      "cell_type": "markdown",
      "metadata": {
        "id": "qcfFNsZCC-4E"
      },
      "source": []
    },
    {
      "cell_type": "code",
      "execution_count": null,
      "metadata": {
        "id": "jCx_qRw871Fz"
      },
      "outputs": [],
      "source": [
        "df_test[df_test.index==1].to_json().replace('\"0\":','').replace(\"{\",'').replace(\"}\",\"\")"
      ]
    },
    {
      "cell_type": "code",
      "execution_count": null,
      "metadata": {
        "collapsed": true,
        "id": "El_G1OBUBRho"
      },
      "outputs": [],
      "source": [
        "cm = confusion_matrix(y_test,y_pred)\n",
        "cm_display =ConfusionMatrixDisplay(cm,display_labels=[0,1])\n",
        "cm_display.plot()\n",
        "plt.show()"
      ]
    },
    {
      "cell_type": "code",
      "execution_count": null,
      "metadata": {
        "id": "nEFtYbWSQlMk"
      },
      "outputs": [],
      "source": [
        "print(classification_report(y_test,y_pred))"
      ]
    },
    {
      "cell_type": "code",
      "execution_count": null,
      "metadata": {
        "id": "dx1fZ9GfHpwy"
      },
      "outputs": [],
      "source": [
        "f1_score(y_test,y_pred)"
      ]
    },
    {
      "cell_type": "code",
      "execution_count": null,
      "metadata": {
        "id": "4xS-xxcZHxZa"
      },
      "outputs": [],
      "source": [
        "precision_score(y_test,y_pred)"
      ]
    },
    {
      "cell_type": "code",
      "execution_count": null,
      "metadata": {
        "id": "CCQOE7kgH2qi"
      },
      "outputs": [],
      "source": [
        "recall_score(y_test,y_pred)"
      ]
    },
    {
      "cell_type": "code",
      "execution_count": null,
      "metadata": {
        "id": "7cfYlKLOH5j6"
      },
      "outputs": [],
      "source": [
        "accuracy_score(y_test,y_pred)"
      ]
    },
    {
      "cell_type": "code",
      "execution_count": null,
      "metadata": {
        "id": "LWn1zi0rH_mq"
      },
      "outputs": [],
      "source": [
        "y_score = cls.predict_proba(X_test)\n",
        "y_score =y_score[:,1]\n",
        "roc_auc_score(y_test,y_score)\n"
      ]
    },
    {
      "cell_type": "code",
      "execution_count": null,
      "metadata": {
        "id": "A2JS6ZYDLClx"
      },
      "outputs": [],
      "source": [
        "\n",
        "fpr, tpr, _ = roc_curve(y_test, y_score)\n",
        "roc_auc_score(y_test,y_score)\n",
        "plt.title('Receiver Operating Characteristic')\n",
        "plt.legend(loc='lower right')\n",
        "plt.plot([0, 1], [0, 1], 'r--')\n",
        "plt.xlim([0, 1])\n",
        "plt.ylim([0, 1])\n",
        "plt.ylabel('True Positive Rate')\n",
        "plt.xlabel('False Positive Rate')\n",
        "plt.plot(fpr,tpr,'b',label=\"auc=\"+str(roc_auc_score(y_test,y_score)))\n",
        "plt.legend(loc=4)\n",
        "plt.show()"
      ]
    },
    {
      "cell_type": "code",
      "execution_count": null,
      "metadata": {
        "id": "4cLNtc_sMqgl"
      },
      "outputs": [],
      "source": [
        "PrecisionRecallDisplay.from_estimator(cls,X_test,y_test,plot_chance_level=True)"
      ]
    },
    {
      "cell_type": "code",
      "execution_count": null,
      "metadata": {
        "id": "jhJKX9kQLA9-"
      },
      "outputs": [],
      "source": []
    },
    {
      "cell_type": "code",
      "execution_count": null,
      "metadata": {
        "id": "kljuFgHlM48j"
      },
      "outputs": [],
      "source": [
        "PrecisionRecallDisplay.from_predictions(y_test,y_pred)"
      ]
    },
    {
      "cell_type": "code",
      "execution_count": null,
      "metadata": {
        "id": "AkYcT-d3MxtN"
      },
      "outputs": [],
      "source": [
        "import pickle\n",
        "with open(\"model_rf.pkl\",'wb') as f:\n",
        "  pickle.dump(cls,f)\n",
        "  f.close()"
      ]
    },
    {
      "cell_type": "code",
      "execution_count": null,
      "metadata": {
        "id": "5evCrxk9QBzM"
      },
      "outputs": [],
      "source": [
        "weak_learner = DecisionTreeClassifier(max_leaf_nodes=8)"
      ]
    },
    {
      "cell_type": "code",
      "execution_count": null,
      "metadata": {
        "id": "V6ldpYlaQFFs"
      },
      "outputs": [],
      "source": [
        "clf = AdaBoostClassifier(estimator=weak_learner,n_estimators=200,algorithm='SAMME',random_state=42)"
      ]
    },
    {
      "cell_type": "code",
      "execution_count": null,
      "metadata": {
        "id": "YdmhHkpCQGML"
      },
      "outputs": [],
      "source": [
        "clf.fit(X_train,y_train)"
      ]
    },
    {
      "cell_type": "code",
      "execution_count": null,
      "metadata": {
        "id": "pG_MFzxHR2wU"
      },
      "outputs": [],
      "source": [
        "y_pred_ada = clf.predict(X_test)"
      ]
    },
    {
      "cell_type": "code",
      "execution_count": null,
      "metadata": {
        "id": "o_UFrMg6WANF"
      },
      "outputs": [],
      "source": [
        "cm_ada=confusion_matrix(y_test,y_pred_ada)"
      ]
    },
    {
      "cell_type": "code",
      "execution_count": null,
      "metadata": {
        "id": "IuH7qHzrWKZN"
      },
      "outputs": [],
      "source": [
        "cm_ada_display =ConfusionMatrixDisplay(cm_ada,display_labels=[0,1])\n",
        "cm_ada_display.plot()\n",
        "plt.show()"
      ]
    },
    {
      "cell_type": "code",
      "execution_count": null,
      "metadata": {
        "id": "kgm4aS3oWW5V"
      },
      "outputs": [],
      "source": [
        "print(classification_report(y_test,y_pred_ada))"
      ]
    },
    {
      "cell_type": "code",
      "execution_count": null,
      "metadata": {
        "id": "qcwDtbwyXjBF"
      },
      "outputs": [],
      "source": [
        "f1_score(y_test,y_pred_ada)"
      ]
    },
    {
      "cell_type": "code",
      "execution_count": null,
      "metadata": {
        "id": "jgj0t6IvYPCF"
      },
      "outputs": [],
      "source": [
        "precision_score(y_test,y_pred_ada)\n"
      ]
    },
    {
      "cell_type": "code",
      "execution_count": null,
      "metadata": {
        "id": "1Bf-Rv6fYXJp"
      },
      "outputs": [],
      "source": [
        "accuracy_score(y_test,y_pred_ada )"
      ]
    },
    {
      "cell_type": "code",
      "execution_count": null,
      "metadata": {
        "id": "0YYszf7zYlf3"
      },
      "outputs": [],
      "source": [
        "PrecisionRecallDisplay.from_estimator(clf,X_test,y_test,plot_chance_level=True)"
      ]
    },
    {
      "cell_type": "code",
      "execution_count": null,
      "metadata": {
        "id": "3EhHm8ENYtY1"
      },
      "outputs": [],
      "source": [
        "PrecisionRecallDisplay.from_predictions(y_test,y_pred_ada)"
      ]
    },
    {
      "cell_type": "code",
      "execution_count": null,
      "metadata": {
        "id": "K3jhSGzRfYiX"
      },
      "outputs": [],
      "source": [
        "print(classification_report(y_test,y_pred))"
      ]
    },
    {
      "cell_type": "code",
      "execution_count": null,
      "metadata": {
        "id": "5KuiaSuwhwp_"
      },
      "outputs": [],
      "source": [
        "y_score_ada = clf.predict_proba(X_train)[:,1]\n",
        "roc_auc_score(y_train,y_score_ada)"
      ]
    },
    {
      "cell_type": "code",
      "execution_count": null,
      "metadata": {
        "id": "xEGVA9gJEq83"
      },
      "outputs": [],
      "source": [
        "with open(\"model_ada.pkl\",'wb') as f:\n",
        "  pickle.dump(clf,f)\n",
        "  f.close()"
      ]
    },
    {
      "cell_type": "code",
      "execution_count": null,
      "metadata": {
        "id": "x5BGevzMRkuO"
      },
      "outputs": [],
      "source": [
        "cls.feature_importances_"
      ]
    },
    {
      "cell_type": "code",
      "execution_count": null,
      "metadata": {
        "id": "SJqhiK85RnRg"
      },
      "outputs": [],
      "source": [
        "clf.feature_importances_"
      ]
    },
    {
      "cell_type": "code",
      "execution_count": null,
      "metadata": {
        "id": "uaAtHSHzR7O6"
      },
      "outputs": [],
      "source": [
        "cls"
      ]
    },
    {
      "cell_type": "code",
      "execution_count": null,
      "metadata": {
        "id": "xXcqDmKLSDHC"
      },
      "outputs": [],
      "source": [
        "clf"
      ]
    },
    {
      "cell_type": "code",
      "execution_count": null,
      "metadata": {
        "id": "RLGXV7QTSFrC"
      },
      "outputs": [],
      "source": []
    }
  ],
  "metadata": {
    "accelerator": "TPU",
    "colab": {
      "gpuType": "V28",
      "private_outputs": true,
      "provenance": []
    },
    "kernelspec": {
      "display_name": "Python 3",
      "name": "python3"
    },
    "language_info": {
      "name": "python"
    }
  },
  "nbformat": 4,
  "nbformat_minor": 0
}
